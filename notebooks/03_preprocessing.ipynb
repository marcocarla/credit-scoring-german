{
 "cells": [
  {
   "cell_type": "markdown",
   "id": "67a0e583",
   "metadata": {},
   "source": [
    "### 1. Load the Cleaned Dataset\n",
    "\n",
    "We reload the cleaned German Credit dataset and separate the features from the target variable.\n"
   ]
  },
  {
   "cell_type": "code",
   "execution_count": 1,
   "id": "19ef9fe3",
   "metadata": {},
   "outputs": [],
   "source": [
    "import pandas as pd\n",
    "\n",
    "# Load data\n",
    "df = pd.read_csv(\"../data/cleaned.csv\")\n",
    "\n",
    "# Separate target\n",
    "X = df.drop(\"Target\", axis=1)\n",
    "y = df[\"Target\"]"
   ]
  },
  {
   "cell_type": "markdown",
   "id": "e207cfae",
   "metadata": {},
   "source": [
    "### 2. Identify Variable Types\n",
    "\n",
    "We identify categorical and numerical columns. This is useful to apply the right preprocessing techniques to each type.\n"
   ]
  },
  {
   "cell_type": "code",
   "execution_count": 2,
   "id": "9888b72b",
   "metadata": {},
   "outputs": [
    {
     "name": "stdout",
     "output_type": "stream",
     "text": [
      "Categorical features: ['Status_checking_account', 'Credit_history', 'Purpose', 'Savings_account', 'Employment_since', 'Personal_status_sex', 'Debtors', 'Property', 'Other_installment_plans', 'Housing', 'Job', 'Telephone', 'Foreign_worker']\n",
      "Numerical features: ['Duration_month', 'Credit_amount', 'Installment_rate', 'Residence_since', 'Age', 'Existing_credits', 'Dependents']\n"
     ]
    }
   ],
   "source": [
    "# Identify column types\n",
    "cat_cols = X.select_dtypes(include=\"object\").columns.tolist()\n",
    "num_cols = X.select_dtypes(include=[\"int64\", \"float64\"]).columns.tolist()\n",
    "\n",
    "print(\"Categorical features:\", cat_cols)\n",
    "print(\"Numerical features:\", num_cols)\n"
   ]
  },
  {
   "cell_type": "markdown",
   "id": "1351ff3c",
   "metadata": {},
   "source": [
    "### 3. Train-Test Split\n",
    "\n",
    "We split the dataset into training and testing sets using stratified sampling, so the proportion of good and bad credit risks is preserved.\n"
   ]
  },
  {
   "cell_type": "code",
   "execution_count": 3,
   "id": "fb7c49bc",
   "metadata": {},
   "outputs": [
    {
     "name": "stdout",
     "output_type": "stream",
     "text": [
      "Train shape: (800, 20)\n",
      "Test shape: (200, 20)\n"
     ]
    }
   ],
   "source": [
    "from sklearn.model_selection import train_test_split\n",
    "\n",
    "# Split data (80% train, 20% test)\n",
    "X_train, X_test, y_train, y_test = train_test_split(\n",
    "    X, y, test_size=0.2, random_state=42, stratify=y\n",
    ")\n",
    "\n",
    "print(\"Train shape:\", X_train.shape)\n",
    "print(\"Test shape:\", X_test.shape)\n"
   ]
  },
  {
   "cell_type": "markdown",
   "id": "1015ce46",
   "metadata": {},
   "source": [
    "### 4. Encode Categorical Variables and Scale Numeric Features\n",
    "\n",
    "We use One-Hot Encoding for categorical variables and Standard Scaling for numeric variables. We combine both transformations using a ColumnTransformer.\n"
   ]
  },
  {
   "cell_type": "code",
   "execution_count": 5,
   "id": "b62c3a14",
   "metadata": {},
   "outputs": [],
   "source": [
    "from sklearn.preprocessing import OneHotEncoder, StandardScaler\n",
    "from sklearn.compose import ColumnTransformer\n",
    "\n",
    "# Preprocessing pipeline\n",
    "preprocessor = ColumnTransformer(transformers=[\n",
    "    (\"num\", StandardScaler(), num_cols),\n",
    "    (\"cat\", OneHotEncoder(handle_unknown=\"ignore\"), cat_cols)\n",
    "])\n",
    "\n",
    "# Fit on training data and transform both train and test\n",
    "X_train_processed = preprocessor.fit_transform(X_train)\n",
    "X_test_processed = preprocessor.transform(X_test)\n"
   ]
  },
  {
   "cell_type": "markdown",
   "id": "4c164d84",
   "metadata": {},
   "source": [
    "### 5. Check Final Processed Shapes\n",
    "\n",
    "We check the shape of the processed data. After encoding, the number of features will increase due to one-hot expansion of categorical variables.\n"
   ]
  },
  {
   "cell_type": "code",
   "execution_count": 6,
   "id": "e5a305a0",
   "metadata": {},
   "outputs": [
    {
     "name": "stdout",
     "output_type": "stream",
     "text": [
      "X_train processed shape: (800, 61)\n",
      "X_test processed shape: (200, 61)\n"
     ]
    }
   ],
   "source": [
    "print(\"X_train processed shape:\", X_train_processed.shape)\n",
    "print(\"X_test processed shape:\", X_test_processed.shape)\n"
   ]
  },
  {
   "cell_type": "markdown",
   "id": "008892f7",
   "metadata": {},
   "source": [
    "### 6. Save the Preprocessor\n",
    "\n",
    "We can save the fitted preprocessing pipeline to reuse it later for predictions, deployment, or explainability.\n"
   ]
  },
  {
   "cell_type": "code",
   "execution_count": 10,
   "id": "8922c4a2",
   "metadata": {},
   "outputs": [
    {
     "data": {
      "text/plain": [
       "['../models/X_train.pkl']"
      ]
     },
     "execution_count": 10,
     "metadata": {},
     "output_type": "execute_result"
    }
   ],
   "source": [
    "import joblib\n",
    "\n",
    "joblib.dump(X_train_processed, \"../models/X_train_processed.pkl\")\n",
    "joblib.dump(X_test_processed, \"../models/X_test_processed.pkl\")\n",
    "joblib.dump(y_train, \"../models/y_train.pkl\")\n",
    "joblib.dump(y_test, \"../models/y_test.pkl\")\n",
    "joblib.dump(X_test, \"../models/X_test.pkl\")\n",
    "joblib.dump(X_train, \"../models/X_train.pkl\")\n",
    "\n"
   ]
  }
 ],
 "metadata": {
  "kernelspec": {
   "display_name": "venv",
   "language": "python",
   "name": "python3"
  },
  "language_info": {
   "codemirror_mode": {
    "name": "ipython",
    "version": 3
   },
   "file_extension": ".py",
   "mimetype": "text/x-python",
   "name": "python",
   "nbconvert_exporter": "python",
   "pygments_lexer": "ipython3",
   "version": "3.13.3"
  }
 },
 "nbformat": 4,
 "nbformat_minor": 5
}
